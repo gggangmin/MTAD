{
 "cells": [
  {
   "cell_type": "code",
   "execution_count": 1,
   "metadata": {},
   "outputs": [],
   "source": [
    "import pickle\n",
    "import numpy as np\n",
    "from sklearn.model_selection import train_test_split\n",
    "from sklearn import preprocessing\n",
    "from sklearn.metrics import *"
   ]
  },
  {
   "cell_type": "code",
   "execution_count": 2,
   "metadata": {},
   "outputs": [],
   "source": [
    "from keras.models import Sequential,load_model\n",
    "from keras.layers import Dense, LSTM, BatchNormalization, Dropout\n",
    "from tensorflow.keras.optimizers import Adam \n",
    "from keras.callbacks import ReduceLROnPlateau, EarlyStopping\n",
    "from keras.regularizers import l2\n",
    "from time import time\n",
    "from sklearn.preprocessing import MinMaxScaler  # MinMaxScaler\n",
    "from sklearn.model_selection import train_test_split\n",
    "from imblearn.over_sampling import SMOTE\n",
    "import tensorflow as tf\n",
    "from keras.callbacks import Callback,ModelCheckpoint\n",
    "from keras.wrappers.scikit_learn import KerasClassifier\n",
    "import keras.backend as K"
   ]
  },
  {
   "cell_type": "code",
   "execution_count": 3,
   "metadata": {},
   "outputs": [],
   "source": [
    "# 2. Load Data\n",
    "\n",
    "df = pd.read_csv('./melting_tank.csv',\n",
    "                 parse_dates=['STD_DT'],\n",
    "                 infer_datetime_format=True,\n",
    "                 index_col='STD_DT'\n",
    "                )\n",
    "df.drop(['NUM'],axis=1,inplace=True) # NUM column 제거"
   ]
  },
  {
   "cell_type": "code",
   "execution_count": 4,
   "metadata": {
    "scrolled": true
   },
   "outputs": [
    {
     "data": {
      "text/html": [
       "<div>\n",
       "<style scoped>\n",
       "    .dataframe tbody tr th:only-of-type {\n",
       "        vertical-align: middle;\n",
       "    }\n",
       "\n",
       "    .dataframe tbody tr th {\n",
       "        vertical-align: top;\n",
       "    }\n",
       "\n",
       "    .dataframe thead th {\n",
       "        text-align: right;\n",
       "    }\n",
       "</style>\n",
       "<table border=\"1\" class=\"dataframe\">\n",
       "  <thead>\n",
       "    <tr style=\"text-align: right;\">\n",
       "      <th></th>\n",
       "      <th>STD_DT</th>\n",
       "      <th>NUM</th>\n",
       "      <th>MELT_TEMP</th>\n",
       "      <th>MOTORSPEED</th>\n",
       "      <th>MELT_WEIGHT</th>\n",
       "      <th>INSP</th>\n",
       "      <th>TAG</th>\n",
       "    </tr>\n",
       "  </thead>\n",
       "  <tbody>\n",
       "    <tr>\n",
       "      <th>0</th>\n",
       "      <td>2020-03-04 0:00</td>\n",
       "      <td>0</td>\n",
       "      <td>489</td>\n",
       "      <td>116</td>\n",
       "      <td>631</td>\n",
       "      <td>3.19</td>\n",
       "      <td>OK</td>\n",
       "    </tr>\n",
       "    <tr>\n",
       "      <th>1</th>\n",
       "      <td>2020-03-04 0:00</td>\n",
       "      <td>1</td>\n",
       "      <td>433</td>\n",
       "      <td>78</td>\n",
       "      <td>609</td>\n",
       "      <td>3.19</td>\n",
       "      <td>OK</td>\n",
       "    </tr>\n",
       "    <tr>\n",
       "      <th>2</th>\n",
       "      <td>2020-03-04 0:00</td>\n",
       "      <td>2</td>\n",
       "      <td>464</td>\n",
       "      <td>154</td>\n",
       "      <td>608</td>\n",
       "      <td>3.19</td>\n",
       "      <td>OK</td>\n",
       "    </tr>\n",
       "    <tr>\n",
       "      <th>3</th>\n",
       "      <td>2020-03-04 0:00</td>\n",
       "      <td>3</td>\n",
       "      <td>379</td>\n",
       "      <td>212</td>\n",
       "      <td>606</td>\n",
       "      <td>3.19</td>\n",
       "      <td>OK</td>\n",
       "    </tr>\n",
       "    <tr>\n",
       "      <th>4</th>\n",
       "      <td>2020-03-04 0:00</td>\n",
       "      <td>4</td>\n",
       "      <td>798</td>\n",
       "      <td>1736</td>\n",
       "      <td>604</td>\n",
       "      <td>3.21</td>\n",
       "      <td>OK</td>\n",
       "    </tr>\n",
       "    <tr>\n",
       "      <th>...</th>\n",
       "      <td>...</td>\n",
       "      <td>...</td>\n",
       "      <td>...</td>\n",
       "      <td>...</td>\n",
       "      <td>...</td>\n",
       "      <td>...</td>\n",
       "      <td>...</td>\n",
       "    </tr>\n",
       "    <tr>\n",
       "      <th>835195</th>\n",
       "      <td>2020-04-30 23:59</td>\n",
       "      <td>835195</td>\n",
       "      <td>755</td>\n",
       "      <td>1743</td>\n",
       "      <td>318</td>\n",
       "      <td>3.21</td>\n",
       "      <td>OK</td>\n",
       "    </tr>\n",
       "    <tr>\n",
       "      <th>835196</th>\n",
       "      <td>2020-04-30 23:59</td>\n",
       "      <td>835196</td>\n",
       "      <td>385</td>\n",
       "      <td>206</td>\n",
       "      <td>317</td>\n",
       "      <td>3.19</td>\n",
       "      <td>OK</td>\n",
       "    </tr>\n",
       "    <tr>\n",
       "      <th>835197</th>\n",
       "      <td>2020-04-30 23:59</td>\n",
       "      <td>835197</td>\n",
       "      <td>465</td>\n",
       "      <td>148</td>\n",
       "      <td>316</td>\n",
       "      <td>3.20</td>\n",
       "      <td>OK</td>\n",
       "    </tr>\n",
       "    <tr>\n",
       "      <th>835198</th>\n",
       "      <td>2020-04-30 23:59</td>\n",
       "      <td>835198</td>\n",
       "      <td>467</td>\n",
       "      <td>0</td>\n",
       "      <td>314</td>\n",
       "      <td>3.19</td>\n",
       "      <td>OK</td>\n",
       "    </tr>\n",
       "    <tr>\n",
       "      <th>835199</th>\n",
       "      <td>2020-04-30 23:59</td>\n",
       "      <td>835199</td>\n",
       "      <td>453</td>\n",
       "      <td>125</td>\n",
       "      <td>312</td>\n",
       "      <td>3.20</td>\n",
       "      <td>OK</td>\n",
       "    </tr>\n",
       "  </tbody>\n",
       "</table>\n",
       "<p>835200 rows × 7 columns</p>\n",
       "</div>"
      ],
      "text/plain": [
       "                  STD_DT     NUM  MELT_TEMP  MOTORSPEED  MELT_WEIGHT  INSP TAG\n",
       "0        2020-03-04 0:00       0        489         116          631  3.19  OK\n",
       "1        2020-03-04 0:00       1        433          78          609  3.19  OK\n",
       "2        2020-03-04 0:00       2        464         154          608  3.19  OK\n",
       "3        2020-03-04 0:00       3        379         212          606  3.19  OK\n",
       "4        2020-03-04 0:00       4        798        1736          604  3.21  OK\n",
       "...                  ...     ...        ...         ...          ...   ...  ..\n",
       "835195  2020-04-30 23:59  835195        755        1743          318  3.21  OK\n",
       "835196  2020-04-30 23:59  835196        385         206          317  3.19  OK\n",
       "835197  2020-04-30 23:59  835197        465         148          316  3.20  OK\n",
       "835198  2020-04-30 23:59  835198        467           0          314  3.19  OK\n",
       "835199  2020-04-30 23:59  835199        453         125          312  3.20  OK\n",
       "\n",
       "[835200 rows x 7 columns]"
      ]
     },
     "execution_count": 4,
     "metadata": {},
     "output_type": "execute_result"
    }
   ],
   "source": [
    "encoder = preprocessing.LabelEncoder()\n",
    "df['TAG'] = encoder.fit_transform(df['TAG']) # categorical variable to numerical variable\n",
    "df['TAG'] = df['TAG'].astype(int)"
   ]
  },
  {
   "cell_type": "code",
   "execution_count": null,
   "metadata": {},
   "outputs": [],
   "source": [
    "print(f'data shape = {df.shape}')\n",
    "df.head(20)"
   ]
  },
  {
   "cell_type": "code",
   "execution_count": null,
   "metadata": {},
   "outputs": [],
   "source": [
    "Counter(df['TAG']) # 1이 normal, 0이 abnormal"
   ]
  },
  {
   "cell_type": "code",
   "execution_count": null,
   "metadata": {},
   "outputs": [],
   "source": [
    "input_x = df.drop('TAG', axis=1).values\n",
    "input_y = df['TAG'].values\n",
    "\n",
    "n_features = input_x.shape[1]"
   ]
  },
  {
   "cell_type": "code",
   "execution_count": null,
   "metadata": {},
   "outputs": [],
   "source": [
    "def make_dataset(data, label, window_size):\n",
    "    feature_list = []\n",
    "    label_list = []\n",
    "    for i in range(len(data)-window_size):\n",
    "        feature_list.append(data[i:i+window_size])\n",
    "        label_list.append(label[i+window_size])\n",
    "    return np.array(feature_list), np.array(label_list)"
   ]
  },
  {
   "cell_type": "code",
   "execution_count": null,
   "metadata": {},
   "outputs": [],
   "source": [
    "def scale(X, scaler):\n",
    "    for i in range(X.shape[0]):\n",
    "        X[i, :, :] = scaler.transform(X[i, :, :])\n",
    "        \n",
    "    return X"
   ]
  },
  {
   "cell_type": "code",
   "execution_count": null,
   "metadata": {},
   "outputs": [],
   "source": [
    "scaler = MinMaxScaler().fit(input_x)\n",
    "x_scaled = scaler.transform(input_x)"
   ]
  },
  {
   "cell_type": "code",
   "execution_count": null,
   "metadata": {},
   "outputs": [],
   "source": [
    "from imblearn.combine import SMOTETomek\n",
    "\n",
    "smtt = SMOTETomek()"
   ]
  },
  {
   "cell_type": "code",
   "execution_count": null,
   "metadata": {},
   "outputs": [],
   "source": [
    "x_scaled, input_y = smtt.fit_resample(x_scaled, input_y)"
   ]
  },
  {
   "cell_type": "code",
   "execution_count": null,
   "metadata": {},
   "outputs": [],
   "source": [
    "x_scaled.shape"
   ]
  },
  {
   "cell_type": "code",
   "execution_count": null,
   "metadata": {},
   "outputs": [],
   "source": [
    "x_scaled ,y_sequence = make_dataset(x_scaled,input_y,10)"
   ]
  },
  {
   "cell_type": "code",
   "execution_count": null,
   "metadata": {},
   "outputs": [],
   "source": [
    "temp_fft = np.array(list(map(lambda x: np.fft.fft(x[:,0])/10  , x_scaled)))\n",
    "speed_fft = np.array(list(map(lambda x: np.fft.fft(x[:,1])/10  , x_scaled)))\n",
    "weight_fft = np.array(list(map(lambda x: np.fft.fft(x[:,2])/10  , x_scaled)))"
   ]
  },
  {
   "cell_type": "code",
   "execution_count": null,
   "metadata": {},
   "outputs": [],
   "source": [
    "temp_fft = temp_fft[:,:,np.newaxis]\n",
    "speed_fft = speed_fft[:,:,np.newaxis]\n",
    "weight_fft = weight_fft[:,:,np.newaxis]"
   ]
  },
  {
   "cell_type": "code",
   "execution_count": null,
   "metadata": {},
   "outputs": [],
   "source": [
    "new_x = np.concatenate([x_scaled,temp_fft,speed_fft,weight_fft],axis=2)"
   ]
  },
  {
   "cell_type": "code",
   "execution_count": null,
   "metadata": {},
   "outputs": [],
   "source": [
    "# Split into train, valid, and test \n",
    "x_train, x_test, y_train, y_test = train_test_split(new_x, y_sequence, test_size=0.3)\n",
    "x_train, x_valid, y_train, y_valid = train_test_split(x_train, y_train, test_size=0.3)\n",
    "\n",
    "print(len(x_train))  \n",
    "print(len(x_valid))\n",
    "print(len(x_test)) "
   ]
  },
  {
   "cell_type": "markdown",
   "metadata": {},
   "source": [
    "# lstm"
   ]
  },
  {
   "cell_type": "code",
   "execution_count": 23,
   "metadata": {},
   "outputs": [],
   "source": [
    "from keras.models import Sequential,load_model\n",
    "from keras.layers import Dense, LSTM, BatchNormalization, Dropout\n",
    "from tensorflow.keras.optimizers import Adam \n",
    "from keras.callbacks import ReduceLROnPlateau, EarlyStopping\n",
    "from keras.regularizers import l2\n",
    "from time import time\n",
    "from sklearn.preprocessing import MinMaxScaler  # MinMaxScaler\n",
    "from sklearn.model_selection import train_test_split\n",
    "from imblearn.over_sampling import SMOTE\n",
    "import tensorflow as tf\n",
    "from keras.callbacks import Callback,ModelCheckpoint\n",
    "from keras.wrappers.scikit_learn import KerasClassifier\n",
    "import keras.backend as K\n",
    "import numpy as np \n",
    "import pandas as pd \n",
    "import matplotlib.pyplot as plt \n",
    "import seaborn as sns \n",
    "from datetime import datetime\n",
    "from sklearn import preprocessing\n",
    "%matplotlib inline"
   ]
  },
  {
   "cell_type": "code",
   "execution_count": null,
   "metadata": {},
   "outputs": [],
   "source": [
    "# lstm도 테스트 해보자\n",
    "\n",
    "def get_f1(y_true, y_pred): #taken from old keras source code\n",
    "    true_positives = K.sum(K.round(K.clip(y_true * y_pred, 0, 1)))\n",
    "    possible_positives = K.sum(K.round(K.clip(y_true, 0, 1)))\n",
    "    predicted_positives = K.sum(K.round(K.clip(y_pred, 0, 1)))\n",
    "    precision = true_positives / (predicted_positives + K.epsilon())\n",
    "    recall = true_positives / (possible_positives + K.epsilon())\n",
    "    f1_val = 2*(precision*recall)/(precision+recall+K.epsilon())\n",
    "    return f1_val\n",
    "\n",
    "model_basic = Sequential()\n",
    "model_basic.add(LSTM(50, input_shape=(10, 7),\n",
    "                    activation='tanh', return_sequences=False))\n",
    "model_basic.add(Dense(1, activation='sigmoid'))\n",
    "model_basic.compile(loss='binary_crossentropy',\n",
    "              metrics=[get_f1],\n",
    "              optimizer='adam')\n",
    "early_stop = EarlyStopping(monitor='val_loss', patience=5)\n",
    "\n",
    "model_basic.summary()\n",
    "\n",
    "history = model_basic.fit(x_train, y_train, \n",
    "                          epochs = 30, \n",
    "                          batch_size = 50, \n",
    "                          validation_data=(x_valid, y_valid), \n",
    "                          callbacks=[early_stop])"
   ]
  },
  {
   "cell_type": "code",
   "execution_count": null,
   "metadata": {},
   "outputs": [],
   "source": [
    "from sklearn.metrics import *"
   ]
  },
  {
   "cell_type": "code",
   "execution_count": null,
   "metadata": {},
   "outputs": [],
   "source": [
    "pred = model_basic.predict(x_test)\n",
    "pred_df = pd.DataFrame(pred, columns=['TAG'])\n",
    "pred_df['TAG'] = pred_df['TAG'].apply(lambda x:1 if x>= 0.5 else 0)\n",
    "\n",
    "p = precision_score(y_test, pred_df)\n",
    "r = recall_score(y_test, pred_df)\n",
    "f1 = f1_score(y_test, pred_df)\n",
    "acc = accuracy_score(y_test, pred_df)\n",
    "\n",
    "print(\"Precision: %0.4f\" %p)\n",
    "print(\"Recall: %0.4f\" %r)\n",
    "print(\"F1-score: %0.4f\" %f1)\n",
    "print(\"Accuracy: %0.4f\" %acc)"
   ]
  }
 ],
 "metadata": {
  "kernelspec": {
   "display_name": "python36",
   "language": "python",
   "name": "python36"
  },
  "language_info": {
   "codemirror_mode": {
    "name": "ipython",
    "version": 3
   },
   "file_extension": ".py",
   "mimetype": "text/x-python",
   "name": "python",
   "nbconvert_exporter": "python",
   "pygments_lexer": "ipython3",
   "version": "3.6.13"
  }
 },
 "nbformat": 4,
 "nbformat_minor": 2
}
