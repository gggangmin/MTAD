{
 "cells": [
  {
   "cell_type": "code",
   "execution_count": 30,
   "metadata": {},
   "outputs": [],
   "source": [
    "import numpy as np \n",
    "import pandas as pd \n",
    "import matplotlib.pyplot as plt \n",
    "import seaborn as sns \n",
    "from datetime import datetime\n",
    "from sklearn import preprocessing\n",
    "import os\n",
    "from sklearn.metrics import *\n",
    "%matplotlib inline"
   ]
  },
  {
   "cell_type": "code",
   "execution_count": 31,
   "metadata": {},
   "outputs": [],
   "source": [
    "from keras.models import Sequential,load_model\n",
    "from keras.layers import Dense, LSTM, BatchNormalization, Dropout, Input, TimeDistributed, RepeatVector\n",
    "from tensorflow.keras.optimizers import Adam \n",
    "from tensorflow.keras import optimizers\n",
    "from keras.callbacks import ReduceLROnPlateau, EarlyStopping\n",
    "from keras.regularizers import l2\n",
    "from time import time\n",
    "from sklearn.preprocessing import MinMaxScaler  # MinMaxScaler\n",
    "from sklearn.model_selection import train_test_split\n",
    "import tensorflow as tf\n",
    "from keras.callbacks import Callback,ModelCheckpoint\n",
    "from keras.wrappers.scikit_learn import KerasClassifier\n",
    "import keras.backend as K\n",
    "from imblearn.over_sampling import SMOTE\n",
    "import os\n",
    "from keras import regularizers\n",
    "from keras.models import Model"
   ]
  },
  {
   "cell_type": "code",
   "execution_count": 32,
   "metadata": {},
   "outputs": [],
   "source": [
    "os.environ[\"CUDA_VISIBLE_DEVICES\"] = \"0\""
   ]
  },
  {
   "cell_type": "code",
   "execution_count": 33,
   "metadata": {},
   "outputs": [
    {
     "name": "stdout",
     "output_type": "stream",
     "text": [
      "data shape = (835200, 5)\n"
     ]
    },
    {
     "data": {
      "text/html": [
       "<div>\n",
       "<style scoped>\n",
       "    .dataframe tbody tr th:only-of-type {\n",
       "        vertical-align: middle;\n",
       "    }\n",
       "\n",
       "    .dataframe tbody tr th {\n",
       "        vertical-align: top;\n",
       "    }\n",
       "\n",
       "    .dataframe thead th {\n",
       "        text-align: right;\n",
       "    }\n",
       "</style>\n",
       "<table border=\"1\" class=\"dataframe\">\n",
       "  <thead>\n",
       "    <tr style=\"text-align: right;\">\n",
       "      <th></th>\n",
       "      <th>MELT_TEMP</th>\n",
       "      <th>MOTORSPEED</th>\n",
       "      <th>MELT_WEIGHT</th>\n",
       "      <th>INSP</th>\n",
       "      <th>TAG</th>\n",
       "    </tr>\n",
       "    <tr>\n",
       "      <th>STD_DT</th>\n",
       "      <th></th>\n",
       "      <th></th>\n",
       "      <th></th>\n",
       "      <th></th>\n",
       "      <th></th>\n",
       "    </tr>\n",
       "  </thead>\n",
       "  <tbody>\n",
       "    <tr>\n",
       "      <th>2020-03-04 00:00:00</th>\n",
       "      <td>489</td>\n",
       "      <td>116</td>\n",
       "      <td>631</td>\n",
       "      <td>3.19</td>\n",
       "      <td>OK</td>\n",
       "    </tr>\n",
       "    <tr>\n",
       "      <th>2020-03-04 00:00:00</th>\n",
       "      <td>433</td>\n",
       "      <td>78</td>\n",
       "      <td>609</td>\n",
       "      <td>3.19</td>\n",
       "      <td>OK</td>\n",
       "    </tr>\n",
       "    <tr>\n",
       "      <th>2020-03-04 00:00:00</th>\n",
       "      <td>464</td>\n",
       "      <td>154</td>\n",
       "      <td>608</td>\n",
       "      <td>3.19</td>\n",
       "      <td>OK</td>\n",
       "    </tr>\n",
       "    <tr>\n",
       "      <th>2020-03-04 00:00:00</th>\n",
       "      <td>379</td>\n",
       "      <td>212</td>\n",
       "      <td>606</td>\n",
       "      <td>3.19</td>\n",
       "      <td>OK</td>\n",
       "    </tr>\n",
       "    <tr>\n",
       "      <th>2020-03-04 00:00:00</th>\n",
       "      <td>798</td>\n",
       "      <td>1736</td>\n",
       "      <td>604</td>\n",
       "      <td>3.21</td>\n",
       "      <td>OK</td>\n",
       "    </tr>\n",
       "    <tr>\n",
       "      <th>2020-03-04 00:00:00</th>\n",
       "      <td>743</td>\n",
       "      <td>1722</td>\n",
       "      <td>603</td>\n",
       "      <td>3.21</td>\n",
       "      <td>OK</td>\n",
       "    </tr>\n",
       "    <tr>\n",
       "      <th>2020-03-04 00:00:00</th>\n",
       "      <td>390</td>\n",
       "      <td>212</td>\n",
       "      <td>602</td>\n",
       "      <td>3.19</td>\n",
       "      <td>OK</td>\n",
       "    </tr>\n",
       "    <tr>\n",
       "      <th>2020-03-04 00:00:00</th>\n",
       "      <td>493</td>\n",
       "      <td>152</td>\n",
       "      <td>600</td>\n",
       "      <td>3.19</td>\n",
       "      <td>OK</td>\n",
       "    </tr>\n",
       "    <tr>\n",
       "      <th>2020-03-04 00:00:00</th>\n",
       "      <td>427</td>\n",
       "      <td>0</td>\n",
       "      <td>599</td>\n",
       "      <td>3.19</td>\n",
       "      <td>OK</td>\n",
       "    </tr>\n",
       "    <tr>\n",
       "      <th>2020-03-04 00:00:00</th>\n",
       "      <td>489</td>\n",
       "      <td>148</td>\n",
       "      <td>598</td>\n",
       "      <td>3.20</td>\n",
       "      <td>OK</td>\n",
       "    </tr>\n",
       "    <tr>\n",
       "      <th>2020-03-04 00:01:00</th>\n",
       "      <td>507</td>\n",
       "      <td>128</td>\n",
       "      <td>596</td>\n",
       "      <td>3.19</td>\n",
       "      <td>OK</td>\n",
       "    </tr>\n",
       "    <tr>\n",
       "      <th>2020-03-04 00:01:00</th>\n",
       "      <td>408</td>\n",
       "      <td>66</td>\n",
       "      <td>595</td>\n",
       "      <td>3.19</td>\n",
       "      <td>OK</td>\n",
       "    </tr>\n",
       "    <tr>\n",
       "      <th>2020-03-04 00:01:00</th>\n",
       "      <td>474</td>\n",
       "      <td>138</td>\n",
       "      <td>594</td>\n",
       "      <td>3.19</td>\n",
       "      <td>OK</td>\n",
       "    </tr>\n",
       "    <tr>\n",
       "      <th>2020-03-04 00:01:00</th>\n",
       "      <td>358</td>\n",
       "      <td>201</td>\n",
       "      <td>592</td>\n",
       "      <td>3.19</td>\n",
       "      <td>OK</td>\n",
       "    </tr>\n",
       "    <tr>\n",
       "      <th>2020-03-04 00:01:00</th>\n",
       "      <td>740</td>\n",
       "      <td>1740</td>\n",
       "      <td>590</td>\n",
       "      <td>3.22</td>\n",
       "      <td>OK</td>\n",
       "    </tr>\n",
       "    <tr>\n",
       "      <th>2020-03-04 00:01:00</th>\n",
       "      <td>772</td>\n",
       "      <td>1729</td>\n",
       "      <td>588</td>\n",
       "      <td>3.22</td>\n",
       "      <td>OK</td>\n",
       "    </tr>\n",
       "    <tr>\n",
       "      <th>2020-03-04 00:01:00</th>\n",
       "      <td>424</td>\n",
       "      <td>195</td>\n",
       "      <td>586</td>\n",
       "      <td>3.18</td>\n",
       "      <td>OK</td>\n",
       "    </tr>\n",
       "    <tr>\n",
       "      <th>2020-03-04 00:01:00</th>\n",
       "      <td>460</td>\n",
       "      <td>158</td>\n",
       "      <td>585</td>\n",
       "      <td>3.19</td>\n",
       "      <td>OK</td>\n",
       "    </tr>\n",
       "    <tr>\n",
       "      <th>2020-03-04 00:01:00</th>\n",
       "      <td>440</td>\n",
       "      <td>0</td>\n",
       "      <td>584</td>\n",
       "      <td>3.19</td>\n",
       "      <td>OK</td>\n",
       "    </tr>\n",
       "    <tr>\n",
       "      <th>2020-03-04 00:01:00</th>\n",
       "      <td>504</td>\n",
       "      <td>133</td>\n",
       "      <td>582</td>\n",
       "      <td>3.19</td>\n",
       "      <td>OK</td>\n",
       "    </tr>\n",
       "  </tbody>\n",
       "</table>\n",
       "</div>"
      ],
      "text/plain": [
       "                     MELT_TEMP  MOTORSPEED  MELT_WEIGHT  INSP TAG\n",
       "STD_DT                                                           \n",
       "2020-03-04 00:00:00        489         116          631  3.19  OK\n",
       "2020-03-04 00:00:00        433          78          609  3.19  OK\n",
       "2020-03-04 00:00:00        464         154          608  3.19  OK\n",
       "2020-03-04 00:00:00        379         212          606  3.19  OK\n",
       "2020-03-04 00:00:00        798        1736          604  3.21  OK\n",
       "2020-03-04 00:00:00        743        1722          603  3.21  OK\n",
       "2020-03-04 00:00:00        390         212          602  3.19  OK\n",
       "2020-03-04 00:00:00        493         152          600  3.19  OK\n",
       "2020-03-04 00:00:00        427           0          599  3.19  OK\n",
       "2020-03-04 00:00:00        489         148          598  3.20  OK\n",
       "2020-03-04 00:01:00        507         128          596  3.19  OK\n",
       "2020-03-04 00:01:00        408          66          595  3.19  OK\n",
       "2020-03-04 00:01:00        474         138          594  3.19  OK\n",
       "2020-03-04 00:01:00        358         201          592  3.19  OK\n",
       "2020-03-04 00:01:00        740        1740          590  3.22  OK\n",
       "2020-03-04 00:01:00        772        1729          588  3.22  OK\n",
       "2020-03-04 00:01:00        424         195          586  3.18  OK\n",
       "2020-03-04 00:01:00        460         158          585  3.19  OK\n",
       "2020-03-04 00:01:00        440           0          584  3.19  OK\n",
       "2020-03-04 00:01:00        504         133          582  3.19  OK"
      ]
     },
     "execution_count": 33,
     "metadata": {},
     "output_type": "execute_result"
    }
   ],
   "source": [
    "df = pd.read_csv('./melting_tank.csv',\n",
    "                 parse_dates=['STD_DT'],\n",
    "                 infer_datetime_format=True,\n",
    "                 index_col='STD_DT'\n",
    "                )\n",
    "df.drop(['NUM'],axis=1,inplace=True) # NUM column 제거\n",
    "print(f'data shape = {df.shape}')\n",
    "df.head(20)"
   ]
  },
  {
   "cell_type": "code",
   "execution_count": 34,
   "metadata": {},
   "outputs": [],
   "source": [
    "encoder = preprocessing.LabelEncoder()\n",
    "df['TAG'] = encoder.fit_transform(df['TAG']) # categorical variable to numerical variable\n",
    "df['TAG'] = df['TAG'].astype(int)"
   ]
  },
  {
   "cell_type": "code",
   "execution_count": 35,
   "metadata": {},
   "outputs": [],
   "source": [
    "split_date = int(df.shape[0]*0.7)\n",
    "train = df[:split_date]\n",
    "test = df[split_date:]"
   ]
  },
  {
   "cell_type": "code",
   "execution_count": 36,
   "metadata": {},
   "outputs": [],
   "source": [
    "scaler = MinMaxScaler()  # MinMaxScaler(feature_range=(-1,1))\n",
    "train_sc = pd.DataFrame(scaler.fit_transform(train), index=train.index, columns=train.columns)\n",
    "test_sc = pd.DataFrame(scaler.transform(test), index=test.index, columns=test.columns)"
   ]
  },
  {
   "cell_type": "code",
   "execution_count": 37,
   "metadata": {},
   "outputs": [],
   "source": [
    "X_train = train_sc.drop(['TAG'],axis=1)\n",
    "y_train = train_sc['TAG']"
   ]
  },
  {
   "cell_type": "code",
   "execution_count": 41,
   "metadata": {},
   "outputs": [
    {
     "data": {
      "text/plain": [
       "(584640, 4)"
      ]
     },
     "execution_count": 41,
     "metadata": {},
     "output_type": "execute_result"
    }
   ],
   "source": [
    "X_train.values.shape"
   ]
  },
  {
   "cell_type": "code",
   "execution_count": 9,
   "metadata": {},
   "outputs": [],
   "source": [
    "# Class Imbalance 처리\n",
    "#smote = SMOTE(random_state=0)\n",
    "#X_train, y_train = smote.fit_resample(X_train.values,y_train.values)"
   ]
  },
  {
   "cell_type": "code",
   "execution_count": 10,
   "metadata": {},
   "outputs": [],
   "source": [
    "# Raw data -> Sequence로 만들기\n",
    "def make_dataset(data, label, window_size):\n",
    "    feature_list = []\n",
    "    label_list = []\n",
    "    for i in range(len(data)-window_size):\n",
    "        feature_list.append(np.array(data.iloc[i:i+window_size]))\n",
    "        label_list.append(np.array(label.iloc[i+window_size]))\n",
    "    return np.array(feature_list), np.array(label_list)"
   ]
  },
  {
   "cell_type": "code",
   "execution_count": 11,
   "metadata": {},
   "outputs": [],
   "source": [
    "X_train = pd.DataFrame(X_train, columns=['MELT_TEMP', 'MOTORSPEED', 'MELT_WEIGHT', 'INSP'])\n",
    "y_train = pd.DataFrame(y_train, columns=['TAG'])\n",
    "train_feature, train_label = make_dataset(X_train, y_train, 10)"
   ]
  },
  {
   "cell_type": "code",
   "execution_count": 12,
   "metadata": {},
   "outputs": [],
   "source": [
    "X_test = test_sc.drop(['TAG'],axis=1)\n",
    "y_test = test_sc['TAG']\n",
    "test_feature, test_label = make_dataset(X_test, y_test, 10)"
   ]
  },
  {
   "cell_type": "code",
   "execution_count": 13,
   "metadata": {},
   "outputs": [],
   "source": [
    "X_train, X_valid, y_train, y_valid = train_test_split(train_feature, train_label, test_size = 0.3)"
   ]
  },
  {
   "cell_type": "code",
   "execution_count": 14,
   "metadata": {},
   "outputs": [
    {
     "data": {
      "text/plain": [
       "((409241, 10, 4), (409241, 1))"
      ]
     },
     "execution_count": 14,
     "metadata": {},
     "output_type": "execute_result"
    }
   ],
   "source": [
    "X_train.shape, y_train.shape"
   ]
  },
  {
   "cell_type": "code",
   "execution_count": 15,
   "metadata": {},
   "outputs": [],
   "source": [
    "# F1-Score Metric으로 사용하기위한 함수\n",
    "def get_f1(y_true, y_pred): \n",
    "    true_positives = K.sum(K.round(K.clip(y_true * y_pred, 0, 1)))\n",
    "    possible_positives = K.sum(K.round(K.clip(y_true, 0, 1)))\n",
    "    predicted_positives = K.sum(K.round(K.clip(y_pred, 0, 1)))\n",
    "    precision = true_positives / (predicted_positives + K.epsilon())\n",
    "    recall = true_positives / (possible_positives + K.epsilon())\n",
    "    f1_val = 2*(precision*recall)/(precision+recall+K.epsilon())\n",
    "    return f1_val"
   ]
  },
  {
   "cell_type": "code",
   "execution_count": 16,
   "metadata": {},
   "outputs": [],
   "source": [
    "model_basic = Sequential()\n",
    "model_basic.add(LSTM(50, input_shape=(train_feature.shape[1], train_feature.shape[2]),\n",
    "                    activation='tanh', return_sequences=False))\n",
    "model_basic.add(Dense(1, activation='sigmoid'))"
   ]
  },
  {
   "cell_type": "code",
   "execution_count": 20,
   "metadata": {},
   "outputs": [],
   "source": [
    "epochs = 30\n",
    "batch = 32\n",
    "lr = 0.0001"
   ]
  },
  {
   "cell_type": "code",
   "execution_count": 21,
   "metadata": {
    "scrolled": true
   },
   "outputs": [
    {
     "name": "stdout",
     "output_type": "stream",
     "text": [
      "Model: \"sequential\"\n",
      "_________________________________________________________________\n",
      "Layer (type)                 Output Shape              Param #   \n",
      "=================================================================\n",
      "lstm (LSTM)                  (None, 50)                11000     \n",
      "_________________________________________________________________\n",
      "dense (Dense)                (None, 1)                 51        \n",
      "=================================================================\n",
      "Total params: 11,051\n",
      "Trainable params: 11,051\n",
      "Non-trainable params: 0\n",
      "_________________________________________________________________\n"
     ]
    }
   ],
   "source": [
    "model_basic.compile(loss='binary_crossentropy',\n",
    "              metrics=[get_f1],\n",
    "              optimizer = optimizers.Adam(lr))\n",
    "early_stop = EarlyStopping(monitor='val_loss', patience=5)\n",
    "model_basic.summary()"
   ]
  },
  {
   "cell_type": "code",
   "execution_count": 22,
   "metadata": {},
   "outputs": [
    {
     "name": "stdout",
     "output_type": "stream",
     "text": [
      "Epoch 1/30\n",
      "12789/12789 [==============================] - 120s 9ms/step - loss: 0.5368 - get_f1: 0.8163 - val_loss: 0.5102 - val_get_f1: 0.8155\n",
      "Epoch 2/30\n",
      "12789/12789 [==============================] - 125s 10ms/step - loss: 0.5080 - get_f1: 0.8174 - val_loss: 0.5059 - val_get_f1: 0.8147\n",
      "Epoch 3/30\n",
      "12789/12789 [==============================] - 119s 9ms/step - loss: 0.5033 - get_f1: 0.8186 - val_loss: 0.4989 - val_get_f1: 0.8216\n",
      "Epoch 4/30\n",
      "12789/12789 [==============================] - 119s 9ms/step - loss: 0.4980 - get_f1: 0.8190 - val_loss: 0.4919 - val_get_f1: 0.8231\n",
      "Epoch 5/30\n",
      "12789/12789 [==============================] - 125s 10ms/step - loss: 0.4916 - get_f1: 0.8174 - val_loss: 0.4958 - val_get_f1: 0.7926\n",
      "Epoch 6/30\n",
      "12789/12789 [==============================] - 117s 9ms/step - loss: 0.4879 - get_f1: 0.8164 - val_loss: 0.4849 - val_get_f1: 0.8255\n",
      "Epoch 7/30\n",
      "12789/12789 [==============================] - 119s 9ms/step - loss: 0.4852 - get_f1: 0.8159 - val_loss: 0.4829 - val_get_f1: 0.8067\n",
      "Epoch 8/30\n",
      "12789/12789 [==============================] - 119s 9ms/step - loss: 0.4834 - get_f1: 0.8152 - val_loss: 0.4814 - val_get_f1: 0.8211\n",
      "Epoch 9/30\n",
      "12789/12789 [==============================] - 113s 9ms/step - loss: 0.4820 - get_f1: 0.8150 - val_loss: 0.4822 - val_get_f1: 0.8012\n",
      "Epoch 10/30\n",
      "12789/12789 [==============================] - 109s 9ms/step - loss: 0.4813 - get_f1: 0.8149 - val_loss: 0.4806 - val_get_f1: 0.8247\n",
      "Epoch 11/30\n",
      "12789/12789 [==============================] - 117s 9ms/step - loss: 0.4807 - get_f1: 0.8148 - val_loss: 0.4796 - val_get_f1: 0.8022\n",
      "Epoch 12/30\n",
      "12789/12789 [==============================] - 118s 9ms/step - loss: 0.4803 - get_f1: 0.8145 - val_loss: 0.4788 - val_get_f1: 0.8160\n",
      "Epoch 13/30\n",
      "12789/12789 [==============================] - 133s 10ms/step - loss: 0.4798 - get_f1: 0.8150 - val_loss: 0.4780 - val_get_f1: 0.8168\n",
      "Epoch 14/30\n",
      "12789/12789 [==============================] - 133s 10ms/step - loss: 0.4794 - get_f1: 0.8154 - val_loss: 0.4784 - val_get_f1: 0.8165\n",
      "Epoch 15/30\n",
      "12789/12789 [==============================] - 136s 11ms/step - loss: 0.4792 - get_f1: 0.8156 - val_loss: 0.4827 - val_get_f1: 0.8267\n",
      "Epoch 16/30\n",
      "12789/12789 [==============================] - 136s 11ms/step - loss: 0.4789 - get_f1: 0.8155 - val_loss: 0.4777 - val_get_f1: 0.8156\n",
      "Epoch 17/30\n",
      "12789/12789 [==============================] - 117s 9ms/step - loss: 0.4786 - get_f1: 0.8156 - val_loss: 0.4802 - val_get_f1: 0.8026\n",
      "Epoch 18/30\n",
      "12789/12789 [==============================] - 116s 9ms/step - loss: 0.4784 - get_f1: 0.8164 - val_loss: 0.4789 - val_get_f1: 0.8069\n",
      "Epoch 19/30\n",
      "12789/12789 [==============================] - 116s 9ms/step - loss: 0.4782 - get_f1: 0.8170 - val_loss: 0.4777 - val_get_f1: 0.8063\n",
      "Epoch 20/30\n",
      "12789/12789 [==============================] - 115s 9ms/step - loss: 0.4780 - get_f1: 0.8163 - val_loss: 0.4770 - val_get_f1: 0.8214\n",
      "Epoch 21/30\n",
      "12789/12789 [==============================] - 116s 9ms/step - loss: 0.4779 - get_f1: 0.8167 - val_loss: 0.4772 - val_get_f1: 0.8151\n",
      "Epoch 22/30\n",
      "12789/12789 [==============================] - 115s 9ms/step - loss: 0.4778 - get_f1: 0.8171 - val_loss: 0.4765 - val_get_f1: 0.8178\n",
      "Epoch 23/30\n",
      "12789/12789 [==============================] - 114s 9ms/step - loss: 0.4777 - get_f1: 0.8171 - val_loss: 0.4766 - val_get_f1: 0.8173\n",
      "Epoch 24/30\n",
      "12789/12789 [==============================] - 109s 9ms/step - loss: 0.4775 - get_f1: 0.8171 - val_loss: 0.4788 - val_get_f1: 0.8081\n",
      "Epoch 25/30\n",
      "12789/12789 [==============================] - 115s 9ms/step - loss: 0.4774 - get_f1: 0.8168 - val_loss: 0.4775 - val_get_f1: 0.8221\n",
      "Epoch 26/30\n",
      "12789/12789 [==============================] - 116s 9ms/step - loss: 0.4773 - get_f1: 0.8174 - val_loss: 0.4766 - val_get_f1: 0.8205\n",
      "Epoch 27/30\n",
      "12789/12789 [==============================] - 115s 9ms/step - loss: 0.4772 - get_f1: 0.8171 - val_loss: 0.4763 - val_get_f1: 0.8205\n",
      "Epoch 28/30\n",
      "12789/12789 [==============================] - 115s 9ms/step - loss: 0.4771 - get_f1: 0.8171 - val_loss: 0.4767 - val_get_f1: 0.8226\n",
      "Epoch 29/30\n",
      "12789/12789 [==============================] - 115s 9ms/step - loss: 0.4771 - get_f1: 0.8173 - val_loss: 0.4763 - val_get_f1: 0.8128\n",
      "Epoch 30/30\n",
      "12789/12789 [==============================] - 116s 9ms/step - loss: 0.4770 - get_f1: 0.8171 - val_loss: 0.4763 - val_get_f1: 0.8165\n"
     ]
    }
   ],
   "source": [
    "history = model_basic.fit(X_train, y_train, \n",
    "                          epochs = epochs, \n",
    "                          batch_size = batch, \n",
    "                          validation_data=(X_valid, y_valid), \n",
    "                          callbacks=[early_stop])"
   ]
  },
  {
   "cell_type": "code",
   "execution_count": 23,
   "metadata": {},
   "outputs": [],
   "source": [
    "pred = model_basic.predict(test_feature)"
   ]
  },
  {
   "cell_type": "code",
   "execution_count": 24,
   "metadata": {},
   "outputs": [],
   "source": [
    "pred_df = pd.DataFrame(pred, columns=['TAG'])"
   ]
  },
  {
   "cell_type": "code",
   "execution_count": 25,
   "metadata": {},
   "outputs": [],
   "source": [
    "pred_df['TAG'] = pred_df['TAG'].apply(lambda x:1 if x>= 0.5 else 0)"
   ]
  },
  {
   "cell_type": "code",
   "execution_count": 26,
   "metadata": {},
   "outputs": [],
   "source": [
    "p = precision_score(test_label, pred_df)\n",
    "r = recall_score(test_label, pred_df)\n",
    "f1 = f1_score(test_label, pred_df)\n",
    "acc = accuracy_score(test_label, pred_df)"
   ]
  },
  {
   "cell_type": "code",
   "execution_count": 27,
   "metadata": {},
   "outputs": [
    {
     "data": {
      "text/plain": [
       "array([[  2143,    797],\n",
       "       [ 66643, 180967]])"
      ]
     },
     "execution_count": 27,
     "metadata": {},
     "output_type": "execute_result"
    }
   ],
   "source": [
    "confusion_matrix(test_label, pred_df)"
   ]
  },
  {
   "cell_type": "code",
   "execution_count": 28,
   "metadata": {},
   "outputs": [
    {
     "name": "stdout",
     "output_type": "stream",
     "text": [
      "Precision: 0.9956\n",
      "Recall: 0.7309\n",
      "F1-score: 0.8429\n",
      "Accuracy: 0.7308\n"
     ]
    }
   ],
   "source": [
    "print(\"Precision: %0.4f\" %p)\n",
    "print(\"Recall: %0.4f\" %r)\n",
    "print(\"F1-score: %0.4f\" %f1)\n",
    "print(\"Accuracy: %0.4f\" %acc)"
   ]
  }
 ],
 "metadata": {
  "kernelspec": {
   "display_name": "python36",
   "language": "python",
   "name": "python36"
  },
  "language_info": {
   "codemirror_mode": {
    "name": "ipython",
    "version": 3
   },
   "file_extension": ".py",
   "mimetype": "text/x-python",
   "name": "python",
   "nbconvert_exporter": "python",
   "pygments_lexer": "ipython3",
   "version": "3.6.13"
  }
 },
 "nbformat": 4,
 "nbformat_minor": 2
}
