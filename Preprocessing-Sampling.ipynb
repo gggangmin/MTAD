{
 "cells": [
  {
   "cell_type": "code",
   "execution_count": null,
   "metadata": {},
   "outputs": [],
   "source": [
    "import numpy as np \n",
    "import pandas as pd \n",
    "import matplotlib.pyplot as plt \n",
    "import seaborn as sns \n",
    "from datetime import datetime\n",
    "from sklearn import preprocessing\n",
    "import os\n",
    "from sklearn.metrics import *\n",
    "%matplotlib inline"
   ]
  },
  {
   "cell_type": "code",
   "execution_count": null,
   "metadata": {},
   "outputs": [],
   "source": [
    "from keras.models import Sequential,load_model\n",
    "from keras.layers import Dense, LSTM, BatchNormalization, Dropout\n",
    "from tensorflow.keras.optimizers import Adam \n",
    "from keras.callbacks import ReduceLROnPlateau, EarlyStopping\n",
    "from keras.regularizers import l2\n",
    "from time import time\n",
    "from sklearn.preprocessing import MinMaxScaler  # MinMaxScaler\n",
    "from sklearn.model_selection import train_test_split\n",
    "import tensorflow as tf\n",
    "from keras.callbacks import Callback,ModelCheckpoint\n",
    "from keras.wrappers.scikit_learn import KerasClassifier\n",
    "import keras.backend as K\n",
    "from imblearn.over_sampling import SMOTE\n",
    "import os"
   ]
  },
  {
   "cell_type": "code",
   "execution_count": null,
   "metadata": {},
   "outputs": [],
   "source": [
    "from imblearn.under_sampling import RandomUnderSampler\n",
    "from imblearn.under_sampling import TomekLinks\n",
    "from imblearn.over_sampling import RandomOverSampler\n",
    "from imblearn.over_sampling import SMOTE\n",
    "from imblearn.combine import SMOTETomek"
   ]
  },
  {
   "cell_type": "code",
   "execution_count": null,
   "metadata": {},
   "outputs": [],
   "source": [
    "# Raw data -> Sequence\n",
    "def make_dataset(data, label, window_size):\n",
    "    feature_list = []\n",
    "    label_list = []\n",
    "    for i in range(len(data)-window_size):\n",
    "        feature_list.append(np.array(data.iloc[i:i+window_size]))\n",
    "        label_list.append(np.array(label.iloc[i+window_size]))\n",
    "    return np.array(feature_list), np.array(label_list)"
   ]
  },
  {
   "cell_type": "code",
   "execution_count": null,
   "metadata": {},
   "outputs": [],
   "source": [
    "# F1-Score Metric\n",
    "def get_f1(y_true, y_pred): \n",
    "    true_positives = K.sum(K.round(K.clip(y_true * y_pred, 0, 1)))\n",
    "    possible_positives = K.sum(K.round(K.clip(y_true, 0, 1)))\n",
    "    predicted_positives = K.sum(K.round(K.clip(y_pred, 0, 1)))\n",
    "    precision = true_positives / (predicted_positives + K.epsilon())\n",
    "    recall = true_positives / (possible_positives + K.epsilon())\n",
    "    f1_val = 2*(precision*recall)/(precision+recall+K.epsilon())\n",
    "    return f1_val"
   ]
  },
  {
   "cell_type": "code",
   "execution_count": null,
   "metadata": {},
   "outputs": [],
   "source": [
    "os.environ[\"CUDA_VISIBLE_DEVICES\"] = \"0\""
   ]
  },
  {
   "cell_type": "code",
   "execution_count": null,
   "metadata": {},
   "outputs": [],
   "source": [
    "df = pd.read_csv('./melting_tank.csv',\n",
    "                 parse_dates=['STD_DT'],\n",
    "                 infer_datetime_format=True,\n",
    "                 index_col='STD_DT'\n",
    "                )\n",
    "df.drop(['NUM'],axis=1,inplace=True) # NUM column 제거\n",
    "print(f'data shape = {df.shape}')"
   ]
  },
  {
   "cell_type": "code",
   "execution_count": null,
   "metadata": {},
   "outputs": [],
   "source": [
    "encoder = preprocessing.LabelEncoder()\n",
    "df['TAG'] = encoder.fit_transform(df['TAG']) # categorical variable to numerical variable\n",
    "df['TAG'] = df['TAG'].astype('float32')"
   ]
  },
  {
   "cell_type": "code",
   "execution_count": null,
   "metadata": {},
   "outputs": [],
   "source": [
    "split_date = int(df.shape[0]*0.7)\n",
    "train = df[:split_date]\n",
    "test = df[split_date:]"
   ]
  },
  {
   "cell_type": "code",
   "execution_count": null,
   "metadata": {},
   "outputs": [],
   "source": [
    "scaler = MinMaxScaler()  # MinMaxScaler(feature_range=(-1,1))\n",
    "train_sc = pd.DataFrame(scaler.fit_transform(train), index=train.index, columns=train.columns)\n",
    "test_sc = pd.DataFrame(scaler.transform(test), index=test.index, columns=test.columns)"
   ]
  },
  {
   "cell_type": "markdown",
   "metadata": {},
   "source": [
    "# Oversampling"
   ]
  },
  {
   "cell_type": "markdown",
   "metadata": {},
   "source": [
    "## Random Oversampling"
   ]
  },
  {
   "cell_type": "code",
   "execution_count": null,
   "metadata": {},
   "outputs": [],
   "source": [
    "X_train = train_sc.drop(['TAG'],axis=1)\n",
    "y_train = train_sc['TAG']"
   ]
  },
  {
   "cell_type": "code",
   "execution_count": null,
   "metadata": {},
   "outputs": [],
   "source": [
    "X_train = pd.DataFrame(X_train, columns=['MELT_TEMP', 'MOTORSPEED', 'MELT_WEIGHT', 'INSP'])\n",
    "y_train = pd.DataFrame(y_train, columns=['TAG'])"
   ]
  },
  {
   "cell_type": "code",
   "execution_count": null,
   "metadata": {},
   "outputs": [],
   "source": [
    "#Random OverSampling\n",
    "ros = RandomOverSampler(sampling_strategy='minority') # Equal to the number of major class\n",
    "ros_feature, ros_label = ros.fit_resample(X_train, y_train)"
   ]
  },
  {
   "cell_type": "code",
   "execution_count": null,
   "metadata": {},
   "outputs": [],
   "source": [
    "train_feature, train_label = make_dataset(ros_feature, ros_label, 10)"
   ]
  },
  {
   "cell_type": "code",
   "execution_count": null,
   "metadata": {},
   "outputs": [],
   "source": [
    "ros_feature = np.array([train_feature[i] for i in idx]).reshape(-1,10,4)"
   ]
  },
  {
   "cell_type": "code",
   "execution_count": null,
   "metadata": {},
   "outputs": [],
   "source": [
    "X_test = test_sc.drop(['TAG'],axis=1)\n",
    "y_test = test_sc['TAG']\n",
    "test_feature, test_label = make_dataset(X_test, y_test, 10)"
   ]
  },
  {
   "cell_type": "code",
   "execution_count": null,
   "metadata": {},
   "outputs": [],
   "source": [
    "X_train, X_valid, y_train, y_valid = train_test_split(train_feature, train_label, test_size = 0.3)"
   ]
  },
  {
   "cell_type": "code",
   "execution_count": null,
   "metadata": {},
   "outputs": [],
   "source": [
    "model_basic = Sequential()\n",
    "model_basic.add(LSTM(50, input_shape=(ros_feature.shape[1], ros_feature.shape[2]),\n",
    "                    activation='tanh', return_sequences=False))\n",
    "model_basic.add(Dense(1, activation='sigmoid'))"
   ]
  },
  {
   "cell_type": "code",
   "execution_count": null,
   "metadata": {},
   "outputs": [],
   "source": [
    "model_basic.compile(loss='binary_crossentropy',\n",
    "              metrics=[get_f1],\n",
    "              optimizer='adam')\n",
    "early_stop = EarlyStopping(monitor='val_loss', patience=5)\n",
    "model_basic.summary()"
   ]
  },
  {
   "cell_type": "code",
   "execution_count": null,
   "metadata": {},
   "outputs": [],
   "source": [
    "history = model_basic.fit(X_train, y_train, \n",
    "                          epochs = 30, \n",
    "                          batch_size = 32, \n",
    "                          validation_data=(X_valid, y_valid), \n",
    "                          callbacks=[early_stop])"
   ]
  },
  {
   "cell_type": "code",
   "execution_count": null,
   "metadata": {},
   "outputs": [],
   "source": [
    "pred = model_basic.predict(test_feature)"
   ]
  },
  {
   "cell_type": "code",
   "execution_count": null,
   "metadata": {},
   "outputs": [],
   "source": [
    "pred_df = pd.DataFrame(pred, columns=['TAG'])"
   ]
  },
  {
   "cell_type": "code",
   "execution_count": null,
   "metadata": {},
   "outputs": [],
   "source": [
    "pred_df['TAG'] = pred_df['TAG'].apply(lambda x:1 if x>= 0.5 else 0)"
   ]
  },
  {
   "cell_type": "code",
   "execution_count": null,
   "metadata": {},
   "outputs": [],
   "source": [
    "p = precision_score(test_label, pred_df)\n",
    "r = recall_score(test_label, pred_df)\n",
    "f1 = f1_score(test_label, pred_df)\n",
    "acc = accuracy_score(test_label, pred_df)\n",
    "\n",
    "print(\"Precision: %0.4f\" %p)\n",
    "print(\"Recall: %0.4f\" %r)\n",
    "print(\"F1-score: %0.4f\" %f1)\n",
    "print(\"Accuracy: %0.4f\" %acc)"
   ]
  },
  {
   "cell_type": "markdown",
   "metadata": {},
   "source": [
    "## SMOTE"
   ]
  },
  {
   "cell_type": "code",
   "execution_count": null,
   "metadata": {},
   "outputs": [],
   "source": [
    "X_train= train_sc.drop(['TAG'],axis=1)\n",
    "y_train = train_sc['TAG']"
   ]
  },
  {
   "cell_type": "code",
   "execution_count": null,
   "metadata": {},
   "outputs": [],
   "source": [
    "#SMOTE\n",
    "smote = SMOTE(sampling_strategy = 'minority')\n",
    "x_sm, y_sm = smote.fit_resample(X_train.values, y_train.values)"
   ]
  },
  {
   "cell_type": "code",
   "execution_count": null,
   "metadata": {},
   "outputs": [],
   "source": [
    "train_feature, train_label = make_dataset(pd.DataFrame(x_sm), pd.DataFrame(y_sm), 10)"
   ]
  },
  {
   "cell_type": "code",
   "execution_count": null,
   "metadata": {},
   "outputs": [],
   "source": [
    "X_test = test_sc.drop(['TAG'],axis=1)\n",
    "y_test = test_sc['TAG']\n",
    "test_feature, test_label = make_dataset(X_test, y_test, 10)"
   ]
  },
  {
   "cell_type": "code",
   "execution_count": null,
   "metadata": {},
   "outputs": [],
   "source": [
    "X_train, X_valid, y_train, y_valid = train_test_split(train_feature, train_label, test_size = 0.3)"
   ]
  },
  {
   "cell_type": "code",
   "execution_count": null,
   "metadata": {},
   "outputs": [],
   "source": [
    "model_basic = Sequential()\n",
    "model_basic.add(LSTM(50, input_shape=(train_feature.shape[1], train_feature.shape[2]),\n",
    "                    activation='tanh', return_sequences=False))\n",
    "model_basic.add(Dense(1, activation='sigmoid'))"
   ]
  },
  {
   "cell_type": "code",
   "execution_count": null,
   "metadata": {},
   "outputs": [],
   "source": [
    "model_basic.compile(loss='binary_crossentropy',\n",
    "              metrics=[get_f1],\n",
    "              optimizer='adam')\n",
    "early_stop = EarlyStopping(monitor='val_loss', patience=5)\n",
    "model_basic.summary()"
   ]
  },
  {
   "cell_type": "code",
   "execution_count": null,
   "metadata": {
    "scrolled": true
   },
   "outputs": [],
   "source": [
    "history = model_basic.fit(X_train, y_train, \n",
    "                          epochs = 30, \n",
    "                          batch_size = 32, \n",
    "                          validation_data=(X_valid, y_valid), \n",
    "                          callbacks=[early_stop])"
   ]
  },
  {
   "cell_type": "code",
   "execution_count": null,
   "metadata": {},
   "outputs": [],
   "source": [
    "pred = model_basic.predict(test_feature)"
   ]
  },
  {
   "cell_type": "code",
   "execution_count": null,
   "metadata": {},
   "outputs": [],
   "source": [
    "pred_df = pd.DataFrame(pred, columns=['TAG'])"
   ]
  },
  {
   "cell_type": "code",
   "execution_count": null,
   "metadata": {},
   "outputs": [],
   "source": [
    "pred_df['TAG'] = pred_df['TAG'].apply(lambda x:1 if x>= 0.5 else 0)"
   ]
  },
  {
   "cell_type": "code",
   "execution_count": null,
   "metadata": {
    "scrolled": true
   },
   "outputs": [],
   "source": [
    "p = precision_score(test_label, pred_df)\n",
    "r = recall_score(test_label, pred_df)\n",
    "f1 = f1_score(test_label, pred_df)\n",
    "acc = accuracy_score(test_label, pred_df)\n",
    "\n",
    "print(\"Precision: %0.4f\" %p)\n",
    "print(\"Recall: %0.4f\" %r)\n",
    "print(\"F1-score: %0.4f\" %f1)\n",
    "print(\"Accuracy: %0.4f\" %acc)"
   ]
  },
  {
   "cell_type": "markdown",
   "metadata": {},
   "source": [
    "# Undersampling"
   ]
  },
  {
   "cell_type": "markdown",
   "metadata": {},
   "source": [
    "## Random Undersampling"
   ]
  },
  {
   "cell_type": "code",
   "execution_count": null,
   "metadata": {},
   "outputs": [],
   "source": [
    "X_train = train_sc.drop(['TAG'],axis=1)\n",
    "y_train = train_sc['TAG']"
   ]
  },
  {
   "cell_type": "code",
   "execution_count": null,
   "metadata": {},
   "outputs": [],
   "source": [
    "X_train = pd.DataFrame(X_train, columns=['MELT_TEMP', 'MOTORSPEED', 'MELT_WEIGHT', 'INSP'])\n",
    "y_train = pd.DataFrame(y_train, columns=['TAG'])"
   ]
  },
  {
   "cell_type": "code",
   "execution_count": null,
   "metadata": {},
   "outputs": [],
   "source": [
    "# Random UnderSampling\n",
    "rus = RandomOverSampler(sampling_strategy='minority')\n",
    "rus_feature, rus_label = rus.fit_resample(X_train, y_train) # Equal to the number of minor class"
   ]
  },
  {
   "cell_type": "code",
   "execution_count": null,
   "metadata": {},
   "outputs": [],
   "source": [
    "# Make Sequence\n",
    "train_feature, train_label = make_dataset(rus_feature, rus_label, 10)"
   ]
  },
  {
   "cell_type": "code",
   "execution_count": null,
   "metadata": {},
   "outputs": [],
   "source": [
    "X_test = test_sc.drop(['TAG'],axis=1)\n",
    "y_test = test_sc['TAG']\n",
    "test_feature, test_label = make_dataset(X_test, y_test, 30)"
   ]
  },
  {
   "cell_type": "code",
   "execution_count": null,
   "metadata": {},
   "outputs": [],
   "source": [
    "pd.DataFrame(rus_label).value_counts()"
   ]
  },
  {
   "cell_type": "code",
   "execution_count": null,
   "metadata": {},
   "outputs": [],
   "source": [
    "X_train, X_valid, y_train, y_valid = train_test_split(train_feature, train_label, test_size = 0.3)"
   ]
  },
  {
   "cell_type": "code",
   "execution_count": null,
   "metadata": {},
   "outputs": [],
   "source": [
    "model_basic = Sequential()\n",
    "model_basic.add(LSTM(50, input_shape=(train_feature.shape[1], train_feature.shape[2]),\n",
    "                    activation='tanh', return_sequences=False))\n",
    "model_basic.add(Dense(1, activation='sigmoid'))"
   ]
  },
  {
   "cell_type": "code",
   "execution_count": null,
   "metadata": {},
   "outputs": [],
   "source": [
    "model_basic.compile(loss='binary_crossentropy',\n",
    "              metrics=[get_f1],\n",
    "              optimizer='adam')\n",
    "early_stop = EarlyStopping(monitor='val_loss', patience=5)\n",
    "model_basic.summary()"
   ]
  },
  {
   "cell_type": "code",
   "execution_count": null,
   "metadata": {
    "scrolled": false
   },
   "outputs": [],
   "source": [
    "history = model_basic.fit(X_train, y_train, \n",
    "                          epochs = 30, \n",
    "                          batch_size = 32, \n",
    "                          validation_data=(X_valid, y_valid), \n",
    "                          callbacks=[early_stop])"
   ]
  },
  {
   "cell_type": "code",
   "execution_count": null,
   "metadata": {},
   "outputs": [],
   "source": [
    "pred = model_basic.predict(test_feature)"
   ]
  },
  {
   "cell_type": "code",
   "execution_count": null,
   "metadata": {},
   "outputs": [],
   "source": [
    "pred_df = pd.DataFrame(pred, columns=['TAG'])"
   ]
  },
  {
   "cell_type": "code",
   "execution_count": null,
   "metadata": {},
   "outputs": [],
   "source": [
    "pred_df['TAG'] = pred_df['TAG'].apply(lambda x:1 if x>= 0.5 else 0)"
   ]
  },
  {
   "cell_type": "code",
   "execution_count": null,
   "metadata": {},
   "outputs": [],
   "source": [
    "p = precision_score(test_label, pred_df)\n",
    "r = recall_score(test_label, pred_df)\n",
    "f1 = f1_score(test_label, pred_df)\n",
    "acc = accuracy_score(test_label, pred_df)\n",
    "\n",
    "print(\"Precision: %0.4f\" %p)\n",
    "print(\"Recall: %0.4f\" %r)\n",
    "print(\"F1-score: %0.4f\" %f1)\n",
    "print(\"Accuracy: %0.4f\" %acc)"
   ]
  },
  {
   "cell_type": "markdown",
   "metadata": {},
   "source": [
    "## Tomek Links"
   ]
  },
  {
   "cell_type": "code",
   "execution_count": null,
   "metadata": {},
   "outputs": [],
   "source": [
    "X_train = train_sc.drop(['TAG'],axis=1)\n",
    "y_train = train_sc['TAG']"
   ]
  },
  {
   "cell_type": "code",
   "execution_count": null,
   "metadata": {},
   "outputs": [],
   "source": [
    "# Tomek Links\n",
    "tl = TomekLinks(sampling_strategy='majority')\n",
    "tl_feature, tl_label = tl.fit_resample(X_train.values, y_train.values)"
   ]
  },
  {
   "cell_type": "code",
   "execution_count": null,
   "metadata": {},
   "outputs": [],
   "source": [
    "train_feature, train_label = make_dataset(pd.DataFrame(tl_feature), pd.DataFrame(tl_label), 10)"
   ]
  },
  {
   "cell_type": "code",
   "execution_count": null,
   "metadata": {},
   "outputs": [],
   "source": [
    "X_test = test_sc.drop(['TAG'],axis=1)\n",
    "y_test = test_sc['TAG']\n",
    "test_feature, test_label = make_dataset(X_test, y_test, 10)"
   ]
  },
  {
   "cell_type": "code",
   "execution_count": null,
   "metadata": {},
   "outputs": [],
   "source": [
    "X_train, X_valid, y_train, y_valid = train_test_split(train_feature, train_label, test_size = 0.3)"
   ]
  },
  {
   "cell_type": "code",
   "execution_count": null,
   "metadata": {},
   "outputs": [],
   "source": [
    "model_basic = Sequential()\n",
    "model_basic.add(LSTM(50, input_shape=(train_feature.shape[1], train_feature.shape[2]),\n",
    "                    activation='tanh', return_sequences=False))\n",
    "model_basic.add(Dense(1, activation='sigmoid'))"
   ]
  },
  {
   "cell_type": "code",
   "execution_count": null,
   "metadata": {},
   "outputs": [],
   "source": [
    "model_basic.compile(loss='binary_crossentropy',\n",
    "              metrics=[get_f1],\n",
    "              optimizer='adam')\n",
    "early_stop = EarlyStopping(monitor='val_loss', patience=5)\n",
    "model_basic.summary()"
   ]
  },
  {
   "cell_type": "code",
   "execution_count": null,
   "metadata": {},
   "outputs": [],
   "source": [
    "history = model_basic.fit(X_train, y_train, \n",
    "                          epochs = 30, \n",
    "                          batch_size = 32, \n",
    "                          validation_data=(X_valid, y_valid), \n",
    "                          callbacks=[early_stop])"
   ]
  },
  {
   "cell_type": "code",
   "execution_count": null,
   "metadata": {},
   "outputs": [],
   "source": [
    "pred = model_basic.predict(test_feature)"
   ]
  },
  {
   "cell_type": "code",
   "execution_count": null,
   "metadata": {},
   "outputs": [],
   "source": [
    "pred_df = pd.DataFrame(pred, columns=['TAG'])"
   ]
  },
  {
   "cell_type": "code",
   "execution_count": null,
   "metadata": {},
   "outputs": [],
   "source": [
    "pred_df['TAG'] = pred_df['TAG'].apply(lambda x:1 if x>= 0.5 else 0)"
   ]
  },
  {
   "cell_type": "code",
   "execution_count": null,
   "metadata": {},
   "outputs": [],
   "source": [
    "p = precision_score(test_label, pred_df)\n",
    "r = recall_score(test_label, pred_df)\n",
    "f1 = f1_score(test_label, pred_df)\n",
    "acc = accuracy_score(test_label, pred_df)\n",
    "\n",
    "print(\"Precision: %0.4f\" %p)\n",
    "print(\"Recall: %0.4f\" %r)\n",
    "print(\"F1-score: %0.4f\" %f1)\n",
    "print(\"Accuracy: %0.4f\" %acc)"
   ]
  },
  {
   "cell_type": "markdown",
   "metadata": {},
   "source": [
    "# Hybrid"
   ]
  },
  {
   "cell_type": "markdown",
   "metadata": {},
   "source": [
    "## SMOTETomek"
   ]
  },
  {
   "cell_type": "code",
   "execution_count": null,
   "metadata": {},
   "outputs": [],
   "source": [
    "X_train = train_sc.drop(['TAG'],axis=1)\n",
    "y_train = train_sc['TAG']"
   ]
  },
  {
   "cell_type": "code",
   "execution_count": null,
   "metadata": {
    "scrolled": false
   },
   "outputs": [],
   "source": [
    "#SMOTETomek\n",
    "smtt = SMOTETomek()\n",
    "x_smtt, y_smtt = smtt.fit_resample(X_train, y_train)"
   ]
  },
  {
   "cell_type": "code",
   "execution_count": null,
   "metadata": {},
   "outputs": [],
   "source": [
    "train_feature, train_label = make_dataset(pd.DataFrame(x_smtt), pd.DataFrame(y_smtt), 10)"
   ]
  },
  {
   "cell_type": "code",
   "execution_count": null,
   "metadata": {},
   "outputs": [],
   "source": [
    "X_test = test_sc.drop(['TAG'],axis=1)\n",
    "y_test = test_sc['TAG']\n",
    "test_feature, test_label = make_dataset(X_test, y_test, 10)"
   ]
  },
  {
   "cell_type": "code",
   "execution_count": null,
   "metadata": {},
   "outputs": [],
   "source": [
    "X_train, X_valid, y_train, y_valid = train_test_split(train_feature, train_label, test_size = 0.3)"
   ]
  },
  {
   "cell_type": "code",
   "execution_count": null,
   "metadata": {},
   "outputs": [],
   "source": [
    "model_basic = Sequential()\n",
    "model_basic.add(LSTM(50, input_shape=(train_feature.shape[1], train_feature.shape[2]),\n",
    "                    activation='tanh', return_sequences=False))\n",
    "model_basic.add(Dense(1, activation='sigmoid'))"
   ]
  },
  {
   "cell_type": "code",
   "execution_count": null,
   "metadata": {},
   "outputs": [],
   "source": [
    "model_basic.compile(loss='binary_crossentropy',\n",
    "              metrics=[get_f1],\n",
    "              optimizer='adam')\n",
    "early_stop = EarlyStopping(monitor='val_loss', patience=5)\n",
    "model_basic.summary()"
   ]
  },
  {
   "cell_type": "code",
   "execution_count": null,
   "metadata": {},
   "outputs": [],
   "source": [
    "history = model_basic.fit(X_train, y_train, \n",
    "                          epochs = 30, \n",
    "                          batch_size = 32, \n",
    "                          validation_data=(X_valid, y_valid), \n",
    "                          callbacks=[early_stop])"
   ]
  },
  {
   "cell_type": "code",
   "execution_count": null,
   "metadata": {},
   "outputs": [],
   "source": [
    "pred = model_basic.predict(test_feature)"
   ]
  },
  {
   "cell_type": "code",
   "execution_count": null,
   "metadata": {},
   "outputs": [],
   "source": [
    "pred_df = pd.DataFrame(pred, columns=['TAG'])"
   ]
  },
  {
   "cell_type": "code",
   "execution_count": null,
   "metadata": {},
   "outputs": [],
   "source": [
    "pred_df['TAG'] = pred_df['TAG'].apply(lambda x:1 if x>= 0.5 else 0)"
   ]
  },
  {
   "cell_type": "code",
   "execution_count": null,
   "metadata": {},
   "outputs": [],
   "source": [
    "p = precision_score(test_label, pred_df)\n",
    "r = recall_score(test_label, pred_df)\n",
    "f1 = f1_score(test_label, pred_df)\n",
    "acc = accuracy_score(test_label, pred_df)"
   ]
  },
  {
   "cell_type": "code",
   "execution_count": null,
   "metadata": {},
   "outputs": [],
   "source": [
    "print(\"tn, fp, fn, tp =\",confusion_matrix(test_label,pred_df).ravel())\n",
    "print(\"\\n\")\n",
    "print(\"Precision: %0.4f\" %p)\n",
    "print(\"Recall: %0.4f\" %r)\n",
    "print(\"F1-score: %0.4f\" %f1)\n",
    "print(\"Accuracy: %0.4f\" %acc)"
   ]
  }
 ],
 "metadata": {
  "kernelspec": {
   "display_name": "python36",
   "language": "python",
   "name": "python36"
  },
  "language_info": {
   "codemirror_mode": {
    "name": "ipython",
    "version": 3
   },
   "file_extension": ".py",
   "mimetype": "text/x-python",
   "name": "python",
   "nbconvert_exporter": "python",
   "pygments_lexer": "ipython3",
   "version": "3.6.13"
  }
 },
 "nbformat": 4,
 "nbformat_minor": 2
}
